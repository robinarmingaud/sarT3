{
 "cells": [
  {
   "cell_type": "markdown",
   "metadata": {
    "slideshow": {
     "slide_type": "slide"
    }
   },
   "source": [
    "Do any necessary initialisation"
   ]
  },
  {
   "cell_type": "code",
   "execution_count": 1,
   "metadata": {
    "slideshow": {
     "slide_type": "fragment"
    }
   },
   "outputs": [],
   "source": [
    "import pandas as pd"
   ]
  },
  {
   "cell_type": "markdown",
   "metadata": {
    "slideshow": {
     "slide_type": "slide"
    }
   },
   "source": [
    "Load the xyz.csv file from https://gist.githubusercontent.com/ariskou/6441e960da38d395b1305e9d388f92d5/raw/62c459a79631efb35ca7000c3fcdf66d2f4a2cc5/xyz.csv: "
   ]
  },
  {
   "cell_type": "code",
   "execution_count": 2,
   "metadata": {
    "slideshow": {
     "slide_type": "fragment"
    }
   },
   "outputs": [],
   "source": [
    "xyz=pd.read_csv(r'https://gist.githubusercontent.com/ariskou/6441e960da38d395b1305e9d388f92d5/raw/62c459a79631efb35ca7000c3fcdf66d2f4a2cc5/xyz.csv')"
   ]
  },
  {
   "cell_type": "markdown",
   "metadata": {
    "slideshow": {
     "slide_type": "-"
    }
   },
   "source": [
    "Print the first 3 rows"
   ]
  },
  {
   "cell_type": "code",
   "execution_count": 3,
   "metadata": {
    "scrolled": true,
    "slideshow": {
     "slide_type": "fragment"
    }
   },
   "outputs": [
    {
     "data": {
      "text/html": [
       "<div>\n",
       "<style scoped>\n",
       "    .dataframe tbody tr th:only-of-type {\n",
       "        vertical-align: middle;\n",
       "    }\n",
       "\n",
       "    .dataframe tbody tr th {\n",
       "        vertical-align: top;\n",
       "    }\n",
       "\n",
       "    .dataframe thead th {\n",
       "        text-align: right;\n",
       "    }\n",
       "</style>\n",
       "<table border=\"1\" class=\"dataframe\">\n",
       "  <thead>\n",
       "    <tr style=\"text-align: right;\">\n",
       "      <th></th>\n",
       "      <th>x</th>\n",
       "      <th>y</th>\n",
       "      <th>z</th>\n",
       "    </tr>\n",
       "  </thead>\n",
       "  <tbody>\n",
       "    <tr>\n",
       "      <th>0</th>\n",
       "      <td>174.23</td>\n",
       "      <td>294.59</td>\n",
       "      <td>50206.23</td>\n",
       "    </tr>\n",
       "    <tr>\n",
       "      <th>1</th>\n",
       "      <td>176.34</td>\n",
       "      <td>264.83</td>\n",
       "      <td>53170.51</td>\n",
       "    </tr>\n",
       "    <tr>\n",
       "      <th>2</th>\n",
       "      <td>171.09</td>\n",
       "      <td>250.23</td>\n",
       "      <td>43880.04</td>\n",
       "    </tr>\n",
       "  </tbody>\n",
       "</table>\n",
       "</div>"
      ],
      "text/plain": [
       "        x       y         z\n",
       "0  174.23  294.59  50206.23\n",
       "1  176.34  264.83  53170.51\n",
       "2  171.09  250.23  43880.04"
      ]
     },
     "execution_count": 3,
     "metadata": {},
     "output_type": "execute_result"
    }
   ],
   "source": [
    "xyz.head(3)"
   ]
  },
  {
   "cell_type": "markdown",
   "metadata": {},
   "source": [
    "Print the last 3 rows"
   ]
  },
  {
   "cell_type": "code",
   "execution_count": 4,
   "metadata": {},
   "outputs": [
    {
     "data": {
      "text/html": [
       "<div>\n",
       "<style scoped>\n",
       "    .dataframe tbody tr th:only-of-type {\n",
       "        vertical-align: middle;\n",
       "    }\n",
       "\n",
       "    .dataframe tbody tr th {\n",
       "        vertical-align: top;\n",
       "    }\n",
       "\n",
       "    .dataframe thead th {\n",
       "        text-align: right;\n",
       "    }\n",
       "</style>\n",
       "<table border=\"1\" class=\"dataframe\">\n",
       "  <thead>\n",
       "    <tr style=\"text-align: right;\">\n",
       "      <th></th>\n",
       "      <th>x</th>\n",
       "      <th>y</th>\n",
       "      <th>z</th>\n",
       "    </tr>\n",
       "  </thead>\n",
       "  <tbody>\n",
       "    <tr>\n",
       "      <th>297</th>\n",
       "      <td>156.70</td>\n",
       "      <td>306.50</td>\n",
       "      <td>71229.91</td>\n",
       "    </tr>\n",
       "    <tr>\n",
       "      <th>298</th>\n",
       "      <td>176.74</td>\n",
       "      <td>218.54</td>\n",
       "      <td>40177.42</td>\n",
       "    </tr>\n",
       "    <tr>\n",
       "      <th>299</th>\n",
       "      <td>197.35</td>\n",
       "      <td>354.90</td>\n",
       "      <td>70886.47</td>\n",
       "    </tr>\n",
       "  </tbody>\n",
       "</table>\n",
       "</div>"
      ],
      "text/plain": [
       "          x       y         z\n",
       "297  156.70  306.50  71229.91\n",
       "298  176.74  218.54  40177.42\n",
       "299  197.35  354.90  70886.47"
      ]
     },
     "execution_count": 4,
     "metadata": {},
     "output_type": "execute_result"
    }
   ],
   "source": [
    "xyz.tail(3)"
   ]
  },
  {
   "cell_type": "markdown",
   "metadata": {},
   "source": [
    "## Answer the following questions"
   ]
  },
  {
   "cell_type": "markdown",
   "metadata": {
    "slideshow": {
     "slide_type": "-"
    }
   },
   "source": [
    "1. What are the following values for columns `x` and `y` (but **not** `z`): \n",
    "* minimum\n",
    "* 5th percentile\n",
    "* 25th percentile (also known as 1st quartile)\n",
    "* median (also known as 2nd quartile or 50th percentile)\n",
    "* 75th percentile (also known as 3rd quartile)\n",
    "* 95th percentile\n",
    "* maximum"
   ]
  },
  {
   "cell_type": "code",
   "execution_count": 5,
   "metadata": {},
   "outputs": [
    {
     "name": "stdout",
     "output_type": "stream",
     "text": [
      "count    300.000000\n",
      "mean     175.616800\n",
      "std       10.877993\n",
      "min      150.170000\n",
      "0.05%    150.310530\n",
      "25%      167.915000\n",
      "50%      175.325000\n",
      "75%      183.332500\n",
      "95%      192.731000\n",
      "max      211.480000\n",
      "Name: x, dtype: float64\n",
      "count    300.000000\n",
      "mean     304.023233\n",
      "std      103.896309\n",
      "min       33.350000\n",
      "0.05%     35.383200\n",
      "25%      233.570000\n",
      "50%      298.830000\n",
      "75%      373.505000\n",
      "95%      470.849500\n",
      "max      635.080000\n",
      "Name: y, dtype: float64\n"
     ]
    }
   ],
   "source": [
    "\n",
    "print(xyz.x.describe(percentiles=[0.0005, 0.25, 0.50, 0.75, 0.95]))\n",
    "print(xyz.y.describe(percentiles=[0.0005, 0.25, 0.50, 0.75, 0.95]))"
   ]
  },
  {
   "cell_type": "markdown",
   "metadata": {},
   "source": [
    "2. Create a new column named `w` which is the product of the values of `x` and `y`. Print the first 5 rows of the data."
   ]
  },
  {
   "cell_type": "code",
   "execution_count": 6,
   "metadata": {},
   "outputs": [
    {
     "data": {
      "text/html": [
       "<div>\n",
       "<style scoped>\n",
       "    .dataframe tbody tr th:only-of-type {\n",
       "        vertical-align: middle;\n",
       "    }\n",
       "\n",
       "    .dataframe tbody tr th {\n",
       "        vertical-align: top;\n",
       "    }\n",
       "\n",
       "    .dataframe thead th {\n",
       "        text-align: right;\n",
       "    }\n",
       "</style>\n",
       "<table border=\"1\" class=\"dataframe\">\n",
       "  <thead>\n",
       "    <tr style=\"text-align: right;\">\n",
       "      <th></th>\n",
       "      <th>x</th>\n",
       "      <th>y</th>\n",
       "      <th>z</th>\n",
       "      <th>w</th>\n",
       "    </tr>\n",
       "  </thead>\n",
       "  <tbody>\n",
       "    <tr>\n",
       "      <th>0</th>\n",
       "      <td>174.23</td>\n",
       "      <td>294.59</td>\n",
       "      <td>50206.23</td>\n",
       "      <td>51326.4157</td>\n",
       "    </tr>\n",
       "    <tr>\n",
       "      <th>1</th>\n",
       "      <td>176.34</td>\n",
       "      <td>264.83</td>\n",
       "      <td>53170.51</td>\n",
       "      <td>46700.1222</td>\n",
       "    </tr>\n",
       "    <tr>\n",
       "      <th>2</th>\n",
       "      <td>171.09</td>\n",
       "      <td>250.23</td>\n",
       "      <td>43880.04</td>\n",
       "      <td>42811.8507</td>\n",
       "    </tr>\n",
       "    <tr>\n",
       "      <th>3</th>\n",
       "      <td>169.74</td>\n",
       "      <td>216.75</td>\n",
       "      <td>51461.05</td>\n",
       "      <td>36791.1450</td>\n",
       "    </tr>\n",
       "    <tr>\n",
       "      <th>4</th>\n",
       "      <td>178.72</td>\n",
       "      <td>392.96</td>\n",
       "      <td>51301.86</td>\n",
       "      <td>70229.8112</td>\n",
       "    </tr>\n",
       "  </tbody>\n",
       "</table>\n",
       "</div>"
      ],
      "text/plain": [
       "        x       y         z           w\n",
       "0  174.23  294.59  50206.23  51326.4157\n",
       "1  176.34  264.83  53170.51  46700.1222\n",
       "2  171.09  250.23  43880.04  42811.8507\n",
       "3  169.74  216.75  51461.05  36791.1450\n",
       "4  178.72  392.96  51301.86  70229.8112"
      ]
     },
     "execution_count": 6,
     "metadata": {},
     "output_type": "execute_result"
    }
   ],
   "source": [
    "xyz['w'] = (xyz.x*xyz.y)\n",
    "xyz.head()"
   ]
  },
  {
   "cell_type": "markdown",
   "metadata": {},
   "source": [
    "3. Find the number of rows where the value of `w` is within one standard deviation from the mean of `w` **AND** where the value of `z` is within (smaller or equal) half a standard deviation from the mean of `z`.\n",
    "\n",
    "Use the smaller or equal operator (`<=`) for the comparisons."
   ]
  },
  {
   "cell_type": "code",
   "execution_count": 7,
   "metadata": {},
   "outputs": [
    {
     "name": "stdout",
     "output_type": "stream",
     "text": [
      "74\n"
     ]
    }
   ],
   "source": [
    "n=0\n",
    "w_std=xyz.w.std()\n",
    "z_std=xyz.z.std()\n",
    "w_mean=xyz.w.mean()\n",
    "z_mean=xyz.w.mean()\n",
    "for idx, row in xyz.iterrows():\n",
    "    if abs(row.z - z_mean)<= (z_std/2) and abs(row.w - w_mean)<= (w_std):\n",
    "        n+=1\n",
    "print(n)  \n"
   ]
  },
  {
   "cell_type": "code",
   "execution_count": 8,
   "metadata": {},
   "outputs": [
    {
     "name": "stdout",
     "output_type": "stream",
     "text": [
      "18650.209281653126 53412.15204933331\n"
     ]
    },
    {
     "data": {
      "text/html": [
       "<div>\n",
       "<style scoped>\n",
       "    .dataframe tbody tr th:only-of-type {\n",
       "        vertical-align: middle;\n",
       "    }\n",
       "\n",
       "    .dataframe tbody tr th {\n",
       "        vertical-align: top;\n",
       "    }\n",
       "\n",
       "    .dataframe thead th {\n",
       "        text-align: right;\n",
       "    }\n",
       "</style>\n",
       "<table border=\"1\" class=\"dataframe\">\n",
       "  <thead>\n",
       "    <tr style=\"text-align: right;\">\n",
       "      <th></th>\n",
       "      <th>x</th>\n",
       "      <th>y</th>\n",
       "      <th>z</th>\n",
       "      <th>w</th>\n",
       "      <th>dev</th>\n",
       "    </tr>\n",
       "  </thead>\n",
       "  <tbody>\n",
       "    <tr>\n",
       "      <th>0</th>\n",
       "      <td>174.23</td>\n",
       "      <td>294.59</td>\n",
       "      <td>50206.23</td>\n",
       "      <td>51326.4157</td>\n",
       "      <td>one</td>\n",
       "    </tr>\n",
       "    <tr>\n",
       "      <th>1</th>\n",
       "      <td>176.34</td>\n",
       "      <td>264.83</td>\n",
       "      <td>53170.51</td>\n",
       "      <td>46700.1222</td>\n",
       "      <td>one</td>\n",
       "    </tr>\n",
       "    <tr>\n",
       "      <th>2</th>\n",
       "      <td>171.09</td>\n",
       "      <td>250.23</td>\n",
       "      <td>43880.04</td>\n",
       "      <td>42811.8507</td>\n",
       "      <td>one</td>\n",
       "    </tr>\n",
       "    <tr>\n",
       "      <th>3</th>\n",
       "      <td>169.74</td>\n",
       "      <td>216.75</td>\n",
       "      <td>51461.05</td>\n",
       "      <td>36791.1450</td>\n",
       "      <td>one</td>\n",
       "    </tr>\n",
       "    <tr>\n",
       "      <th>4</th>\n",
       "      <td>178.72</td>\n",
       "      <td>392.96</td>\n",
       "      <td>51301.86</td>\n",
       "      <td>70229.8112</td>\n",
       "      <td>one</td>\n",
       "    </tr>\n",
       "  </tbody>\n",
       "</table>\n",
       "</div>"
      ],
      "text/plain": [
       "        x       y         z           w  dev\n",
       "0  174.23  294.59  50206.23  51326.4157  one\n",
       "1  176.34  264.83  53170.51  46700.1222  one\n",
       "2  171.09  250.23  43880.04  42811.8507  one\n",
       "3  169.74  216.75  51461.05  36791.1450  one\n",
       "4  178.72  392.96  51301.86  70229.8112  one"
      ]
     },
     "execution_count": 8,
     "metadata": {},
     "output_type": "execute_result"
    }
   ],
   "source": [
    "\n",
    "for idx, row in xyz.iterrows():\n",
    "    if abs(row.w - w_mean)<= (w_std):\n",
    "        xyz.loc[idx,'dev'] = 'one'\n",
    "    elif abs(row.w - w_mean)<= (2*w_std):\n",
    "        xyz.loc[idx,'dev'] = 'two'\n",
    "    elif abs(row.w - w_mean)<= (4*w_std):\n",
    "        xyz.loc[idx,'dev'] = 'four'  \n",
    "print(w_std,w_mean)\n",
    "\n",
    "xyz.head()"
   ]
  },
  {
   "cell_type": "markdown",
   "metadata": {},
   "source": [
    "4. Create a new column named `\"devs\"` with possible values one of:\n",
    "* `\"four\"`, \n",
    "* `\"two\"`, or \n",
    "* `\"one\"` \n",
    "\n",
    "The value corresponds to whether the value of `w` (in the same row) is within 4, 2, or 1 standard deviations from the mean of `w`.\n",
    "\n",
    "Use the smaller or equal operator (`<=`) for the comparisons.\n",
    "\n",
    "What is the **maximum** of the values of `x` in categories `\"one\"` and `\"two\"`?\n"
   ]
  },
  {
   "cell_type": "code",
   "execution_count": 9,
   "metadata": {},
   "outputs": [
    {
     "name": "stdout",
     "output_type": "stream",
     "text": [
      "150.17\n"
     ]
    }
   ],
   "source": [
    "max=xyz.x.min()\n",
    "print(max)"
   ]
  },
  {
   "cell_type": "code",
   "execution_count": 10,
   "metadata": {},
   "outputs": [],
   "source": [
    "for idx, row in xyz.iterrows():\n",
    "    if (row.dev=='one' or row.dev=='two')and row.x>max:\n",
    "        max=row.x"
   ]
  },
  {
   "cell_type": "code",
   "execution_count": 11,
   "metadata": {},
   "outputs": [
    {
     "name": "stdout",
     "output_type": "stream",
     "text": [
      "211.48\n"
     ]
    }
   ],
   "source": [
    "print(max)"
   ]
  },
  {
   "cell_type": "code",
   "execution_count": 12,
   "metadata": {},
   "outputs": [
    {
     "name": "stdout",
     "output_type": "stream",
     "text": [
      "x       211.48\n",
      "y       262.19\n",
      "z      52357.8\n",
      "w      55447.9\n",
      "dev        one\n",
      "Name: 210, dtype: object\n"
     ]
    }
   ],
   "source": [
    "for idx, row in xyz.iterrows():\n",
    "    if row.x==211.48:\n",
    "        print(row)"
   ]
  },
  {
   "cell_type": "code",
   "execution_count": null,
   "metadata": {},
   "outputs": [],
   "source": []
  },
  {
   "cell_type": "code",
   "execution_count": null,
   "metadata": {},
   "outputs": [],
   "source": []
  },
  {
   "cell_type": "code",
   "execution_count": null,
   "metadata": {},
   "outputs": [],
   "source": []
  },
  {
   "cell_type": "code",
   "execution_count": null,
   "metadata": {},
   "outputs": [],
   "source": []
  },
  {
   "cell_type": "code",
   "execution_count": null,
   "metadata": {},
   "outputs": [],
   "source": []
  }
 ],
 "metadata": {
  "anaconda-cloud": {},
  "celltoolbar": "Slideshow",
  "kernelspec": {
   "display_name": "Python 3",
   "language": "python",
   "name": "python3"
  },
  "language_info": {
   "codemirror_mode": {
    "name": "ipython",
    "version": 3
   },
   "file_extension": ".py",
   "mimetype": "text/x-python",
   "name": "python",
   "nbconvert_exporter": "python",
   "pygments_lexer": "ipython3",
   "version": "3.8.5"
  }
 },
 "nbformat": 4,
 "nbformat_minor": 4
}
